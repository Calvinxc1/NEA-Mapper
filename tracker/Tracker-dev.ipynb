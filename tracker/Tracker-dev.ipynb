{
 "cells": [
  {
   "cell_type": "code",
   "execution_count": 1,
   "metadata": {},
   "outputs": [],
   "source": [
    "import pymongo as pm\n",
    "import mysql.connector as mdb\n",
    "import requests as rq\n",
    "import ujson as js\n",
    "import pandas as pd\n",
    "import numpy as np\n",
    "from datetime import datetime as dt\n",
    "from threading import Thread\n",
    "from time import sleep\n",
    "\n",
    "from utils.Container import Container\n",
    "import _CONST as CONST"
   ]
  },
  {
   "cell_type": "code",
   "execution_count": 2,
   "metadata": {},
   "outputs": [],
   "source": [
    "class Tracker:\n",
    "    def __init__(self, char_id):\n",
    "        self._urls = CONST.URLS\n",
    "        self._args = CONST.ARGS\n",
    "        self._data = CONST.SEED_DATA\n",
    "        self._refresh = CONST.SEED_REFRESH\n",
    "        self._threads = CONST.SEED_THREADS\n",
    "        self._token = CONST.SEED_TOKEN\n",
    "        \n",
    "        self.char_id = char_id\n",
    "        self.token_short_sleep_sec = CONST.TOKEN_SHORT_SLEEP_SEC\n",
    "        self.url_retrys = CONST.URL_RETRYS\n",
    "        \n",
    "        self._build_conns(CONST.MONGO_LOGIN_PATH, CONST.MARIA_LOGIN_PATH)\n",
    "        now_time = dt.utcnow()\n",
    "        for key in self._urls: self._refresh[key] = now_time\n",
    "            \n",
    "    @property\n",
    "    def args(self):\n",
    "        args = self._args._dict\n",
    "        args['headers']['Authorization'] = args['headers']['Authorization'].format(token=self._token.value)\n",
    "        return args\n",
    "    \n",
    "    def start_threads(self):\n",
    "        self._start_token_thread()\n",
    "        self._start_data_threads()\n",
    "        \n",
    "    def _start_token_thread(self):\n",
    "        self._threads.token = Thread(target=self._token_thread, daemon=True)\n",
    "        self._threads.token.start()\n",
    "            \n",
    "    def _start_data_threads(self):\n",
    "        self._threads.data = [\n",
    "            Thread(target=self._data_thread, daemon=True, args=(data_key,))\n",
    "            for data_key in self._urls\n",
    "        ]\n",
    "        [thread.start() for thread in self._threads.data]\n",
    "    \n",
    "    def _build_conns(self, mongo_login_path:str, maria_login_path:str):\n",
    "        with open(mongo_login_path) as file_mongo, \\\n",
    "             open(maria_login_path) as file_maria:\n",
    "            self.conn = Container(\n",
    "                mongo=pm.MongoClient(**js.load(file_mongo)),\n",
    "                maria=mdb.connect(**js.load(file_maria)),\n",
    "                url=rq.Session()\n",
    "            )\n",
    "        \n",
    "    def _token_thread(self):\n",
    "        while True:\n",
    "            self.refresh_token()\n",
    "            sleep_delay = (self._token.expires - dt.now()).total_seconds() - self.token_short_sleep_sec\n",
    "            if sleep_delay > 0: sleep(sleep_delay)\n",
    "            \n",
    "    def refresh_token(self):\n",
    "        token_data = self.conn.mongo[self._token.db][self._token.coll].find_one(\n",
    "            {'_id':self.char_id},\n",
    "            {'tokens.access_token':1, 'tokens.expires_on':1}\n",
    "        )['tokens']\n",
    "        self._token.value = token_data['access_token']\n",
    "        self._token.expires = token_data['expires_on']\n",
    "        \n",
    "    def _data_thread(self, data_key:str):\n",
    "        while True:\n",
    "            self.get_data(data_key)\n",
    "            sleep_delay = (self._refresh[data_key] - dt.now()).total_seconds()\n",
    "            if sleep_delay > 0: sleep(sleep_delay)\n",
    "            \n",
    "    def get_data(self, data_key:str):\n",
    "        if dt.utcnow() > self._refresh[data_key]:\n",
    "            resp = self._call_url('get', self._urls[data_key].format(char_id=self.char_id), self.args)\n",
    "            if resp is not None:\n",
    "                self._refresh[data_key] = dt.strptime(resp.headers['Expires'], '%a, %d %b %Y %H:%M:%S %Z')\n",
    "                self._data[data_key] = js.loads(resp.content)\n",
    "            else:\n",
    "                return None\n",
    "        else:\n",
    "            return None\n",
    "    \n",
    "    def _call_url(self, method:str, url:str, kwargs:dict):\n",
    "        for _ in range(self.url_retrys):\n",
    "            resp = rq.request(method, url, **kwargs)\n",
    "            if resp.status_code == 200: return resp\n",
    "            sleep(0.01)\n",
    "        \n",
    "        return None"
   ]
  },
  {
   "cell_type": "code",
   "execution_count": 3,
   "metadata": {},
   "outputs": [],
   "source": [
    "tracker = Tracker(144981811)"
   ]
  },
  {
   "cell_type": "code",
   "execution_count": 4,
   "metadata": {},
   "outputs": [],
   "source": [
    "tracker.start_threads()"
   ]
  },
  {
   "cell_type": "code",
   "execution_count": 11,
   "metadata": {},
   "outputs": [
    {
     "data": {
      "text/plain": [
       "{'db': 'NewEdenAnalytics',\n",
       " 'expires': datetime.datetime(2019, 10, 5, 23, 50),\n",
       " 'value': 'eyJhbGciOiJSUzI1NiIsImtpZCI6IkpXVC1TaWduYXR1cmUtS2V5IiwidHlwIjoiSldUIn0.eyJzY3AiOlsiZXNpLWxvY2F0aW9uLnJlYWRfbG9jYXRpb24udjEiLCJlc2ktbG9jYXRpb24ucmVhZF9zaGlwX3R5cGUudjEiLCJlc2ktYXNzZXRzLnJlYWRfYXNzZXRzLnYxIiwiZXNpLWZsZWV0cy5yZWFkX2ZsZWV0LnYxIiwiZXNpLWZsZWV0cy53cml0ZV9mbGVldC52MSIsImVzaS11aS53cml0ZV93YXlwb2ludC52MSIsImVzaS1sb2NhdGlvbi5yZWFkX29ubGluZS52MSJdLCJqdGkiOiJjMzM0ZjU3Mi1lODkzLTQ0NzUtYWRmNS1jNWU2NmYwYzQxNzAiLCJraWQiOiJKV1QtU2lnbmF0dXJlLUtleSIsInN1YiI6IkNIQVJBQ1RFUjpFVkU6MTQ0OTgxODExIiwiYXpwIjoiYjlmYWM1YmI3YzViNGZlODk3MjVlN2UzMWM0MDEyNjkiLCJuYW1lIjoiQ2FsdmluIiwib3duZXIiOiJpQU1Hc3A1TUVzTE5HNXo1aGRwcHhMQ0JoY1E9IiwiZXhwIjoxNTcwMzE5NDAyLCJpc3MiOiJsb2dpbi5ldmVvbmxpbmUuY29tIn0.nSveUwGaI4KPHcfTMq_QBOTXGq-RWAOymm6rwkGVo7tuapFTtA3V-4TDCpGpEy_mVPsMxSim2_m-KpYm5pkRO3Rm70ihGP1H-LIuf8zXubCsTZVRtHvEifvImJSldizvl6vD0-0E29Pa46bRz_wHgvdrUstX-lCyOXlYf1tZ_yZml2Y7yieDpzFcLR0hqEnhW0HLxDPnjo8J_S-PUvf_n_QgfH2eaY8klAgRB8NSyVvsWat4xFRMsSXWc2y_c-UM6hoy_ZtgGJBpf7i8psUWkduL58C3Q4oNUwMrzX-YSatte9iWnTryMFmdmWX2PnGekibWQPfVH2B-pZvTrvnQHw',\n",
       " 'coll': 'eve_characters'}"
      ]
     },
     "execution_count": 11,
     "metadata": {},
     "output_type": "execute_result"
    }
   ],
   "source": [
    "tracker._token._dict"
   ]
  },
  {
   "cell_type": "code",
   "execution_count": 12,
   "metadata": {},
   "outputs": [
    {
     "data": {
      "text/plain": [
       "{'ship': {'ship_item_id': 1031377964730,\n",
       "  'ship_name': 'Lard Sniffer',\n",
       "  'ship_type_id': 17480},\n",
       " 'location': {'solar_system_id': 30004125, 'structure_id': 1027327111023},\n",
       " 'online': {'last_login': '2019-10-05T21:18:12Z',\n",
       "  'last_logout': '2019-10-05T23:35:47Z',\n",
       "  'logins': 6384,\n",
       "  'online': False}}"
      ]
     },
     "execution_count": 12,
     "metadata": {},
     "output_type": "execute_result"
    }
   ],
   "source": [
    "tracker._data._dict"
   ]
  },
  {
   "cell_type": "code",
   "execution_count": 13,
   "metadata": {},
   "outputs": [
    {
     "data": {
      "text/plain": [
       "{'data': [<Thread(Thread-5, started daemon 140474587313920)>,\n",
       "  <Thread(Thread-6, started daemon 140474578921216)>,\n",
       "  <Thread(Thread-7, started daemon 140474570528512)>],\n",
       " 'token': <Thread(Thread-4, started daemon 140474595706624)>}"
      ]
     },
     "execution_count": 13,
     "metadata": {},
     "output_type": "execute_result"
    }
   ],
   "source": [
    "tracker._threads._dict"
   ]
  }
 ],
 "metadata": {
  "kernelspec": {
   "display_name": "Python 3",
   "language": "python",
   "name": "python3"
  },
  "language_info": {
   "codemirror_mode": {
    "name": "ipython",
    "version": 3
   },
   "file_extension": ".py",
   "mimetype": "text/x-python",
   "name": "python",
   "nbconvert_exporter": "python",
   "pygments_lexer": "ipython3",
   "version": "3.7.3"
  }
 },
 "nbformat": 4,
 "nbformat_minor": 4
}
